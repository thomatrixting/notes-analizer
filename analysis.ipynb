{
 "cells": [
  {
   "cell_type": "markdown",
   "source": "# data procesing ",
   "metadata": {
    "cell_id": "f92a1ae1-fb51-487a-829d-7f5c5f225370",
    "tags": [],
    "deepnote_cell_type": "markdown"
   }
  },
  {
   "cell_type": "code",
   "metadata": {
    "tags": [],
    "cell_id": "118bdc3f-5e97-47ad-a7de-4bb734b08f54",
    "deepnote_to_be_reexecuted": false,
    "source_hash": "e5bfdaaf",
    "execution_start": 1642178331222,
    "execution_millis": 2974,
    "deepnote_cell_type": "code"
   },
   "source": "import pandas as pd\nimport numpy as np\nimport matplotlib.pylab as plt\nimport math\nfrom datetime import datetime\nfrom scipy.stats import norm \n\nfrom auxiliar_functions import auxiliar_functions as axf",
   "execution_count": 1,
   "outputs": []
  },
  {
   "cell_type": "code",
   "metadata": {
    "cell_id": "20dd1eb4-ec32-4316-aca4-791e7f5dee2b",
    "tags": [],
    "deepnote_to_be_reexecuted": false,
    "source_hash": "1dcfe00e",
    "execution_start": 1642178334211,
    "execution_millis": 43,
    "deepnote_cell_type": "code"
   },
   "source": "notes = pd.read_csv('/work/data/df_notes_of_scholl_test.csv')\nnotes.columns = ['date','note','indicator','class','especial_type','bimester']\nnotes['date'] = pd.to_datetime(notes['date'])\nnotes['especial_type'] =  notes['especial_type'].replace(np.nan,'no')",
   "execution_count": 2,
   "outputs": []
  },
  {
   "cell_type": "code",
   "metadata": {
    "cell_id": "5699751b-416d-42d0-b1f8-761e5bd7d61a",
    "tags": [],
    "deepnote_to_be_reexecuted": false,
    "source_hash": "281cf7ae",
    "execution_start": 1642178334283,
    "execution_millis": 9,
    "deepnote_output_heights": [
     null,
     21.1875
    ],
    "deepnote_cell_type": "code"
   },
   "source": "def analysis(classes,notes=notes):\n    indicators = axf.indicators_calculator(classes,notes)\n    situation, full_report= axf.situation_analizer(indicators,notes)\n    report = axf.filter_report(full_report)\n\n    return situation, report",
   "execution_count": 3,
   "outputs": []
  },
  {
   "cell_type": "markdown",
   "source": "# analysis",
   "metadata": {
    "cell_id": "b353c4ab-28dd-43f0-b0c3-43fed3b99b02",
    "tags": [],
    "deepnote_cell_type": "markdown"
   }
  },
  {
   "cell_type": "code",
   "metadata": {
    "cell_id": "e05fdde3-b2fe-47ac-b9e8-ba8fd52abcc8",
    "tags": [],
    "deepnote_to_be_reexecuted": false,
    "source_hash": "846e31b7",
    "execution_start": 1642178334307,
    "execution_millis": 48,
    "deepnote_cell_type": "code"
   },
   "source": "classes_scholl ={\n1: 'english',\n2: 'lengua_castellana',\n3: 'math',\n4: 'physics',\n5: 'chemistry',\n6: 'biology',\n7: 'science_emphasis',\n8: 'social_studies'  }",
   "execution_count": 4,
   "outputs": []
  },
  {
   "cell_type": "code",
   "metadata": {
    "cell_id": "ecc7000c-30f8-43c9-8039-0df7e71bae4c",
    "tags": [],
    "deepnote_to_be_reexecuted": false,
    "source_hash": "36b27353",
    "execution_start": 1642178345699,
    "execution_millis": 4138,
    "deepnote_output_heights": [
     293
    ],
    "deepnote_cell_type": "code"
   },
   "source": "class_int = axf.ask_int('put the number according to the grid adove:')\nsituation, report = analysis(classes_scholl[class_int],notes)\nreport",
   "execution_count": 6,
   "outputs": [
    {
     "output_type": "execute_result",
     "execution_count": 6,
     "data": {
      "application/vnd.deepnote.dataframe.v3+json": {
       "column_count": 6,
       "row_count": 8,
       "columns": [
        {
         "name": "dignostic",
         "dtype": "float64",
         "stats": {
          "unique_count": 6,
          "nan_count": 0,
          "min": "12.0",
          "max": "45.0",
          "histogram": [
           {
            "bin_start": 12,
            "bin_end": 15.3,
            "count": 1
           },
           {
            "bin_start": 15.3,
            "bin_end": 18.6,
            "count": 0
           },
           {
            "bin_start": 18.6,
            "bin_end": 21.9,
            "count": 0
           },
           {
            "bin_start": 21.9,
            "bin_end": 25.2,
            "count": 2
           },
           {
            "bin_start": 25.2,
            "bin_end": 28.5,
            "count": 0
           },
           {
            "bin_start": 28.5,
            "bin_end": 31.799999999999997,
            "count": 0
           },
           {
            "bin_start": 31.799999999999997,
            "bin_end": 35.099999999999994,
            "count": 0
           },
           {
            "bin_start": 35.099999999999994,
            "bin_end": 38.4,
            "count": 1
           },
           {
            "bin_start": 38.4,
            "bin_end": 41.7,
            "count": 0
           },
           {
            "bin_start": 41.7,
            "bin_end": 45,
            "count": 4
           }
          ]
         }
        },
        {
         "name": "bimonthly",
         "dtype": "float64",
         "stats": {
          "unique_count": 4,
          "nan_count": 4,
          "min": "19.0",
          "max": "37.0",
          "histogram": [
           {
            "bin_start": 19,
            "bin_end": 20.8,
            "count": 1
           },
           {
            "bin_start": 20.8,
            "bin_end": 22.6,
            "count": 0
           },
           {
            "bin_start": 22.6,
            "bin_end": 24.4,
            "count": 0
           },
           {
            "bin_start": 24.4,
            "bin_end": 26.2,
            "count": 0
           },
           {
            "bin_start": 26.2,
            "bin_end": 28,
            "count": 1
           },
           {
            "bin_start": 28,
            "bin_end": 29.8,
            "count": 1
           },
           {
            "bin_start": 29.8,
            "bin_end": 31.6,
            "count": 0
           },
           {
            "bin_start": 31.6,
            "bin_end": 33.4,
            "count": 0
           },
           {
            "bin_start": 33.4,
            "bin_end": 35.2,
            "count": 0
           },
           {
            "bin_start": 35.2,
            "bin_end": 37,
            "count": 1
           }
          ]
         }
        },
        {
         "name": "def_note",
         "dtype": "int64",
         "stats": {
          "unique_count": 4,
          "nan_count": 0,
          "min": "25",
          "max": "35",
          "histogram": [
           {
            "bin_start": 25,
            "bin_end": 26,
            "count": 1
           },
           {
            "bin_start": 26,
            "bin_end": 27,
            "count": 0
           },
           {
            "bin_start": 27,
            "bin_end": 28,
            "count": 0
           },
           {
            "bin_start": 28,
            "bin_end": 29,
            "count": 2
           },
           {
            "bin_start": 29,
            "bin_end": 30,
            "count": 0
           },
           {
            "bin_start": 30,
            "bin_end": 31,
            "count": 0
           },
           {
            "bin_start": 31,
            "bin_end": 32,
            "count": 2
           },
           {
            "bin_start": 32,
            "bin_end": 33,
            "count": 0
           },
           {
            "bin_start": 33,
            "bin_end": 34,
            "count": 0
           },
           {
            "bin_start": 34,
            "bin_end": 35,
            "count": 3
           }
          ]
         }
        },
        {
         "name": "pass",
         "dtype": "object",
         "stats": {
          "unique_count": 4,
          "nan_count": 0,
          "categories": [
           {
            "name": "no",
            "count": 3
           },
           {
            "name": "currenly_no",
            "count": 2
           },
           {
            "name": "2 others",
            "count": 3
           }
          ]
         }
        },
        {
         "name": "need_to_pass",
         "dtype": "object",
         "stats": {
          "unique_count": 8,
          "nan_count": 0,
          "categories": [
           {
            "name": "already_end",
            "count": 4
           },
           {
            "name": "is imposible to pass",
            "count": 2
           },
           {
            "name": "2 others",
            "count": 2
           }
          ]
         }
        },
        {
         "name": "need_note_provavility",
         "dtype": "object",
         "stats": {
          "unique_count": 2,
          "nan_count": 6,
          "categories": [
           {
            "name": "38.46%-33.44%",
            "count": 1
           },
           {
            "name": "34.19%-31.32%",
            "count": 1
           },
           {
            "name": "Missing",
            "count": 6
           }
          ]
         }
        },
        {
         "name": "_deepnote_index_column",
         "dtype": "object"
        }
       ],
       "rows": [
        {
         "dignostic": 37,
         "bimonthly": 19,
         "def_note": 31,
         "pass": "no",
         "need_to_pass": "already_end",
         "need_note_provavility": "nan",
         "_deepnote_index_column": "(1, 1)"
        },
        {
         "dignostic": 45,
         "bimonthly": 37,
         "def_note": 35,
         "pass": "yes",
         "need_to_pass": "already_end",
         "need_note_provavility": "nan",
         "_deepnote_index_column": "(1, 2)"
        },
        {
         "dignostic": 25,
         "bimonthly": 27,
         "def_note": 31,
         "pass": "no",
         "need_to_pass": "already_end",
         "need_note_provavility": "nan",
         "_deepnote_index_column": "(1, 3)"
        },
        {
         "dignostic": 22,
         "bimonthly": 29,
         "def_note": 28,
         "pass": "no",
         "need_to_pass": "already_end",
         "need_note_provavility": "nan",
         "_deepnote_index_column": "(1, 4)"
        },
        {
         "dignostic": 12,
         "bimonthly": "nan",
         "def_note": 25,
         "pass": "currenly_no",
         "need_to_pass": "is imposible to pass",
         "need_note_provavility": "nan",
         "_deepnote_index_column": "(2, 1)"
        },
        {
         "dignostic": 45,
         "bimonthly": "nan",
         "def_note": 35,
         "pass": "currenly_yes",
         "need_to_pass": "{'bim': 37}",
         "need_note_provavility": "38.46%-33.44%",
         "_deepnote_index_column": "(2, 2)"
        },
        {
         "dignostic": 45,
         "bimonthly": "nan",
         "def_note": 28,
         "pass": "currenly_no",
         "need_to_pass": "is imposible to pass",
         "need_note_provavility": "nan",
         "_deepnote_index_column": "(2, 3)"
        },
        {
         "dignostic": 44,
         "bimonthly": "nan",
         "def_note": 35,
         "pass": "currenly_yes",
         "need_to_pass": "{'bim': 36}",
         "need_note_provavility": "34.19%-31.32%",
         "_deepnote_index_column": "(2, 4)"
        }
       ]
      },
      "text/plain": "                    dignostic  bimonthly  def_note          pass  \\\nbimester indicator                                                 \n1        1               37.0       19.0        31            no   \n         2               45.0       37.0        35           yes   \n         3               25.0       27.0        31            no   \n         4               22.0       29.0        28            no   \n2        1               12.0        NaN        25   currenly_no   \n         2               45.0        NaN        35  currenly_yes   \n         3               45.0        NaN        28   currenly_no   \n         4               44.0        NaN        35  currenly_yes   \n\n                            need_to_pass need_note_provavility  \nbimester indicator                                              \n1        1                   already_end                   NaN  \n         2                   already_end                   NaN  \n         3                   already_end                   NaN  \n         4                   already_end                   NaN  \n2        1          is imposible to pass                   NaN  \n         2                   {'bim': 37}         38.46%-33.44%  \n         3          is imposible to pass                   NaN  \n         4                   {'bim': 36}         34.19%-31.32%  ",
      "text/html": "<div>\n<style scoped>\n    .dataframe tbody tr th:only-of-type {\n        vertical-align: middle;\n    }\n\n    .dataframe tbody tr th {\n        vertical-align: top;\n    }\n\n    .dataframe thead th {\n        text-align: right;\n    }\n</style>\n<table border=\"1\" class=\"dataframe\">\n  <thead>\n    <tr style=\"text-align: right;\">\n      <th></th>\n      <th></th>\n      <th>dignostic</th>\n      <th>bimonthly</th>\n      <th>def_note</th>\n      <th>pass</th>\n      <th>need_to_pass</th>\n      <th>need_note_provavility</th>\n    </tr>\n    <tr>\n      <th>bimester</th>\n      <th>indicator</th>\n      <th></th>\n      <th></th>\n      <th></th>\n      <th></th>\n      <th></th>\n      <th></th>\n    </tr>\n  </thead>\n  <tbody>\n    <tr>\n      <th rowspan=\"4\" valign=\"top\">1</th>\n      <th>1</th>\n      <td>37.0</td>\n      <td>19.0</td>\n      <td>31</td>\n      <td>no</td>\n      <td>already_end</td>\n      <td>NaN</td>\n    </tr>\n    <tr>\n      <th>2</th>\n      <td>45.0</td>\n      <td>37.0</td>\n      <td>35</td>\n      <td>yes</td>\n      <td>already_end</td>\n      <td>NaN</td>\n    </tr>\n    <tr>\n      <th>3</th>\n      <td>25.0</td>\n      <td>27.0</td>\n      <td>31</td>\n      <td>no</td>\n      <td>already_end</td>\n      <td>NaN</td>\n    </tr>\n    <tr>\n      <th>4</th>\n      <td>22.0</td>\n      <td>29.0</td>\n      <td>28</td>\n      <td>no</td>\n      <td>already_end</td>\n      <td>NaN</td>\n    </tr>\n    <tr>\n      <th rowspan=\"4\" valign=\"top\">2</th>\n      <th>1</th>\n      <td>12.0</td>\n      <td>NaN</td>\n      <td>25</td>\n      <td>currenly_no</td>\n      <td>is imposible to pass</td>\n      <td>NaN</td>\n    </tr>\n    <tr>\n      <th>2</th>\n      <td>45.0</td>\n      <td>NaN</td>\n      <td>35</td>\n      <td>currenly_yes</td>\n      <td>{'bim': 37}</td>\n      <td>38.46%-33.44%</td>\n    </tr>\n    <tr>\n      <th>3</th>\n      <td>45.0</td>\n      <td>NaN</td>\n      <td>28</td>\n      <td>currenly_no</td>\n      <td>is imposible to pass</td>\n      <td>NaN</td>\n    </tr>\n    <tr>\n      <th>4</th>\n      <td>44.0</td>\n      <td>NaN</td>\n      <td>35</td>\n      <td>currenly_yes</td>\n      <td>{'bim': 36}</td>\n      <td>34.19%-31.32%</td>\n    </tr>\n  </tbody>\n</table>\n</div>"
     },
     "metadata": {}
    }
   ]
  },
  {
   "cell_type": "code",
   "source": "bimester = axf.ask_int('put the bimester to plot: ')\naxf.plot_distribution_indicator(classes_scholl[class_int],bimester=bimester,notes= notes)",
   "metadata": {
    "cell_id": "a965fb5d-4889-47e1-9f3a-9a1750f11ffe",
    "tags": [],
    "deepnote_to_be_reexecuted": false,
    "source_hash": "d964cf56",
    "execution_start": 1642178352925,
    "execution_millis": 4779,
    "deepnote_output_heights": [
     428
    ],
    "deepnote_cell_type": "code"
   },
   "outputs": [
    {
     "data": {
      "text/plain": "<Figure size 864x432 with 4 Axes>",
      "image/png": "[encoded data removed]"
     },
     "metadata": {
      "needs_background": "light",
      "image/png": {
       "width": 848,
       "height": 426
      }
     },
     "output_type": "display_data"
    }
   ],
   "execution_count": 7
  },
  {
   "cell_type": "markdown",
   "source": "<a style='text-decoration:none;line-height:16px;display:flex;color:#5B5B62;padding:10px;justify-content:end;' href='https://deepnote.com?utm_source=created-in-deepnote-cell&projectId=50dbbd25-8c13-4c7b-a40f-860fb8cbc2c7' target=\"_blank\">\n<img alt='Created in deepnote.com' style='display:inline;max-height:16px;margin:0px;margin-right:7.5px;' src='data:image/svg+xml;base64,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' > </img>\nCreated in <span style='font-weight:600;margin-left:4px;'>Deepnote</span></a>",
   "metadata": {
    "tags": [],
    "created_in_deepnote_cell": true,
    "deepnote_cell_type": "markdown"
   }
  }
 ],
 "nbformat": 4,
 "nbformat_minor": 2,
 "metadata": {
  "orig_nbformat": 2,
  "deepnote": {
   "is_reactive": false
  },
  "deepnote_notebook_id": "2d96dd50-37b0-4bd5-b495-4064f8cae07d",
  "deepnote_execution_queue": []
 }
}