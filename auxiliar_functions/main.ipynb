{
 "cells": [
  {
   "cell_type": "code",
   "metadata": {
    "tags": [],
    "cell_id": "00000-18204d7e-51c1-435b-8457-1cc443934d09",
    "deepnote_to_be_reexecuted": false,
    "source_hash": "4cf1e0ee",
    "execution_start": 1642120541346,
    "execution_millis": 2348,
    "deepnote_cell_type": "code"
   },
   "source": "import pandas as pd\nimport matplotlib.pylab as plt\nimport numpy as np\nimport math\nfrom datetime import datetime\nfrom scipy.stats import norm ",
   "outputs": [],
   "execution_count": null
  },
  {
   "cell_type": "markdown",
   "source": "# data procesing",
   "metadata": {
    "tags": [],
    "cell_id": "00001-6390d6e7-acdb-439d-9641-0cf200e9328c",
    "deepnote_cell_type": "markdown"
   }
  },
  {
   "cell_type": "code",
   "metadata": {
    "tags": [],
    "cell_id": "00002-7e570930-097d-47ce-be32-232f626eeef3",
    "deepnote_to_be_reexecuted": false,
    "source_hash": "1dcfe00e",
    "execution_start": 1642120543700,
    "execution_millis": 23,
    "deepnote_output_heights": [
     501.1875
    ],
    "deepnote_cell_type": "code"
   },
   "source": "notes = pd.read_csv('/work/data/df_notes_of_scholl_test.csv')\nnotes.columns = ['date','note','indicator','class','especial_type','bimester']\nnotes['date'] = pd.to_datetime(notes['date'])\nnotes['especial_type'] =  notes['especial_type'].replace(np.nan,'no')",
   "outputs": [],
   "execution_count": null
  },
  {
   "cell_type": "code",
   "metadata": {
    "tags": [],
    "cell_id": "00002-0afa75b2-c829-4496-8948-37106d48d56e",
    "deepnote_to_be_reexecuted": false,
    "source_hash": "bd8f1572",
    "execution_start": 1642120543733,
    "execution_millis": 53,
    "deepnote_output_heights": [
     61
    ],
    "deepnote_cell_type": "code"
   },
   "source": "notes.head(1)",
   "outputs": [
    {
     "output_type": "execute_result",
     "execution_count": 3,
     "data": {
      "application/vnd.deepnote.dataframe.v3+json": {
       "column_count": 6,
       "row_count": 1,
       "columns": [
        {
         "name": "date",
         "dtype": "datetime64[ns]",
         "stats": {
          "unique_count": 1,
          "nan_count": 0,
          "min": "2022-01-09 14:41:47",
          "max": "2022-01-09 14:41:47",
          "histogram": null
         }
        },
        {
         "name": "note",
         "dtype": "int64",
         "stats": {
          "unique_count": 1,
          "nan_count": 0,
          "min": "37",
          "max": "37",
          "histogram": [
           {
            "bin_start": 36.5,
            "bin_end": 36.6,
            "count": 0
           },
           {
            "bin_start": 36.6,
            "bin_end": 36.7,
            "count": 0
           },
           {
            "bin_start": 36.7,
            "bin_end": 36.8,
            "count": 0
           },
           {
            "bin_start": 36.8,
            "bin_end": 36.9,
            "count": 0
           },
           {
            "bin_start": 36.9,
            "bin_end": 37,
            "count": 0
           },
           {
            "bin_start": 37,
            "bin_end": 37.1,
            "count": 1
           },
           {
            "bin_start": 37.1,
            "bin_end": 37.2,
            "count": 0
           },
           {
            "bin_start": 37.2,
            "bin_end": 37.3,
            "count": 0
           },
           {
            "bin_start": 37.3,
            "bin_end": 37.4,
            "count": 0
           },
           {
            "bin_start": 37.4,
            "bin_end": 37.5,
            "count": 0
           }
          ]
         }
        },
        {
         "name": "indicator",
         "dtype": "int64",
         "stats": {
          "unique_count": 1,
          "nan_count": 0,
          "min": "1",
          "max": "1",
          "histogram": [
           {
            "bin_start": 0.5,
            "bin_end": 0.6,
            "count": 0
           },
           {
            "bin_start": 0.6,
            "bin_end": 0.7,
            "count": 0
           },
           {
            "bin_start": 0.7,
            "bin_end": 0.8,
            "count": 0
           },
           {
            "bin_start": 0.8,
            "bin_end": 0.9,
            "count": 0
           },
           {
            "bin_start": 0.9,
            "bin_end": 1,
            "count": 0
           },
           {
            "bin_start": 1,
            "bin_end": 1.1,
            "count": 1
           },
           {
            "bin_start": 1.1,
            "bin_end": 1.2000000000000002,
            "count": 0
           },
           {
            "bin_start": 1.2000000000000002,
            "bin_end": 1.3,
            "count": 0
           },
           {
            "bin_start": 1.3,
            "bin_end": 1.4,
            "count": 0
           },
           {
            "bin_start": 1.4,
            "bin_end": 1.5,
            "count": 0
           }
          ]
         }
        },
        {
         "name": "class",
         "dtype": "object",
         "stats": {
          "unique_count": 1,
          "nan_count": 0,
          "categories": [
           {
            "name": "lengua_castellana",
            "count": 1
           }
          ]
         }
        },
        {
         "name": "especial_type",
         "dtype": "object",
         "stats": {
          "unique_count": 1,
          "nan_count": 0,
          "categories": [
           {
            "name": "dignostic",
            "count": 1
           }
          ]
         }
        },
        {
         "name": "bimester",
         "dtype": "int64",
         "stats": {
          "unique_count": 1,
          "nan_count": 0,
          "min": "1",
          "max": "1",
          "histogram": [
           {
            "bin_start": 0.5,
            "bin_end": 0.6,
            "count": 0
           },
           {
            "bin_start": 0.6,
            "bin_end": 0.7,
            "count": 0
           },
           {
            "bin_start": 0.7,
            "bin_end": 0.8,
            "count": 0
           },
           {
            "bin_start": 0.8,
            "bin_end": 0.9,
            "count": 0
           },
           {
            "bin_start": 0.9,
            "bin_end": 1,
            "count": 0
           },
           {
            "bin_start": 1,
            "bin_end": 1.1,
            "count": 1
           },
           {
            "bin_start": 1.1,
            "bin_end": 1.2000000000000002,
            "count": 0
           },
           {
            "bin_start": 1.2000000000000002,
            "bin_end": 1.3,
            "count": 0
           },
           {
            "bin_start": 1.3,
            "bin_end": 1.4,
            "count": 0
           },
           {
            "bin_start": 1.4,
            "bin_end": 1.5,
            "count": 0
           }
          ]
         }
        },
        {
         "name": "_deepnote_index_column",
         "dtype": "int64"
        }
       ],
       "rows": [
        {
         "date": "2022-01-09T14:41:47.000000",
         "note": 37,
         "indicator": 1,
         "class": "lengua_castellana",
         "especial_type": "dignostic",
         "bimester": 1,
         "_deepnote_index_column": 0
        }
       ]
      },
      "text/plain": "                 date  note  indicator              class especial_type  \\\n0 2022-01-09 14:41:47    37          1  lengua_castellana     dignostic   \n\n   bimester  \n0         1  ",
      "text/html": "<div>\n<style scoped>\n    .dataframe tbody tr th:only-of-type {\n        vertical-align: middle;\n    }\n\n    .dataframe tbody tr th {\n        vertical-align: top;\n    }\n\n    .dataframe thead th {\n        text-align: right;\n    }\n</style>\n<table border=\"1\" class=\"dataframe\">\n  <thead>\n    <tr style=\"text-align: right;\">\n      <th></th>\n      <th>date</th>\n      <th>note</th>\n      <th>indicator</th>\n      <th>class</th>\n      <th>especial_type</th>\n      <th>bimester</th>\n    </tr>\n  </thead>\n  <tbody>\n    <tr>\n      <th>0</th>\n      <td>2022-01-09 14:41:47</td>\n      <td>37</td>\n      <td>1</td>\n      <td>lengua_castellana</td>\n      <td>dignostic</td>\n      <td>1</td>\n    </tr>\n  </tbody>\n</table>\n</div>"
     },
     "metadata": {}
    }
   ],
   "execution_count": null
  },
  {
   "cell_type": "markdown",
   "source": "# anlisis",
   "metadata": {
    "tags": [],
    "cell_id": "00004-5f7a7850-b344-4815-8964-4c0f6a28c67f",
    "deepnote_cell_type": "markdown"
   }
  },
  {
   "cell_type": "markdown",
   "source": "## indicators",
   "metadata": {
    "tags": [],
    "cell_id": "00005-57fac5d1-1624-4fd9-a398-1384b87e3ace",
    "deepnote_cell_type": "markdown"
   }
  },
  {
   "cell_type": "code",
   "metadata": {
    "tags": [],
    "cell_id": "00005-4a1cc31a-5ad1-42d3-b03f-c5582b14a477",
    "deepnote_to_be_reexecuted": false,
    "source_hash": "9e17d915",
    "execution_start": 1642120543795,
    "execution_millis": 7,
    "deepnote_output_heights": [
     21.1875
    ],
    "is_code_hidden": false,
    "deepnote_cell_type": "code"
   },
   "source": "def ponderate_avg(avg,dig=None,bim=None):\n    if (not dig and not bim) or (np.isnan(dig) and np.isnan(bim)) :\n        return avg\n    if not dig or np.isnan(dig) :\n        dig = (avg*55+bim*20)/75\n    elif not bim or np.isnan(bim):\n        bim = (avg*55+dig*25)/80   \n\n    return (avg*55 + dig*25 + bim*20)/100\n\ndef indicators_calculator(classe,notes = notes):\n    filter_notes = notes.loc[(notes['class'] == classe) & (notes['especial_type'] == 'no')][['indicator','note','bimester']]\n\n    indicators = filter_notes.groupby(['indicator','bimester']).mean()\n    indicators = indicators.merge(filter_notes.groupby(['indicator','bimester']).std(),left_index=True, right_index=True)\n    indicators.columns = ['normal_note_avg','note_std']\n\n    special_notes = notes.loc[(notes['especial_type'] != 'no')]\n    special_notes = special_notes.pivot(index=['indicator','bimester'], columns='especial_type', values='note')\n    for special_note in ['dignostic','bimonthly']:\n        try:\n            special_notes[special_note]\n        except KeyError:\n            special_notes.insert(0,special_note,[0]*len(special_notes))\n    indicators = indicators.join(special_notes)\n\n    indicators['ponderate_avg'] = indicators.apply(lambda row: ponderate_avg(row['normal_note_avg'],row['dignostic'],row['bimonthly']),axis=1)\n\n    indicators = indicators.reset_index(['indicator','bimester']).sort_values('bimester')\n    \n\n    return indicators",
   "outputs": [],
   "execution_count": null
  },
  {
   "cell_type": "code",
   "metadata": {
    "tags": [],
    "cell_id": "00006-97126e32-ae8d-4c92-aa66-798d59ab906e",
    "deepnote_to_be_reexecuted": false,
    "source_hash": "87096a6d",
    "execution_start": 1642120543809,
    "execution_millis": 75,
    "deepnote_output_heights": [
     264
    ],
    "deepnote_cell_type": "code"
   },
   "source": "indicators = indicators_calculator('lengua_castellana')\nindicators",
   "outputs": [
    {
     "output_type": "execute_result",
     "execution_count": 5,
     "data": {
      "application/vnd.deepnote.dataframe.v3+json": {
       "column_count": 7,
       "row_count": 8,
       "columns": [
        {
         "name": "indicator",
         "dtype": "int64",
         "stats": {
          "unique_count": 4,
          "nan_count": 0,
          "min": "1",
          "max": "4",
          "histogram": [
           {
            "bin_start": 1,
            "bin_end": 1.3,
            "count": 2
           },
           {
            "bin_start": 1.3,
            "bin_end": 1.6,
            "count": 0
           },
           {
            "bin_start": 1.6,
            "bin_end": 1.9,
            "count": 0
           },
           {
            "bin_start": 1.9,
            "bin_end": 2.2,
            "count": 2
           },
           {
            "bin_start": 2.2,
            "bin_end": 2.5,
            "count": 0
           },
           {
            "bin_start": 2.5,
            "bin_end": 2.8,
            "count": 0
           },
           {
            "bin_start": 2.8,
            "bin_end": 3.1,
            "count": 2
           },
           {
            "bin_start": 3.1,
            "bin_end": 3.4,
            "count": 0
           },
           {
            "bin_start": 3.4,
            "bin_end": 3.6999999999999997,
            "count": 0
           },
           {
            "bin_start": 3.6999999999999997,
            "bin_end": 4,
            "count": 2
           }
          ]
         }
        },
        {
         "name": "bimester",
         "dtype": "int64",
         "stats": {
          "unique_count": 2,
          "nan_count": 0,
          "min": "1",
          "max": "2",
          "histogram": [
           {
            "bin_start": 1,
            "bin_end": 1.1,
            "count": 4
           },
           {
            "bin_start": 1.1,
            "bin_end": 1.2,
            "count": 0
           },
           {
            "bin_start": 1.2,
            "bin_end": 1.3,
            "count": 0
           },
           {
            "bin_start": 1.3,
            "bin_end": 1.4,
            "count": 0
           },
           {
            "bin_start": 1.4,
            "bin_end": 1.5,
            "count": 0
           },
           {
            "bin_start": 1.5,
            "bin_end": 1.6,
            "count": 0
           },
           {
            "bin_start": 1.6,
            "bin_end": 1.7000000000000002,
            "count": 0
           },
           {
            "bin_start": 1.7000000000000002,
            "bin_end": 1.8,
            "count": 0
           },
           {
            "bin_start": 1.8,
            "bin_end": 1.9,
            "count": 0
           },
           {
            "bin_start": 1.9,
            "bin_end": 2,
            "count": 4
           }
          ]
         }
        },
        {
         "name": "normal_note_avg",
         "dtype": "float64",
         "stats": {
          "unique_count": 8,
          "nan_count": 0,
          "min": "20.0",
          "max": "35.2",
          "histogram": [
           {
            "bin_start": 20,
            "bin_end": 21.52,
            "count": 1
           },
           {
            "bin_start": 21.52,
            "bin_end": 23.04,
            "count": 0
           },
           {
            "bin_start": 23.04,
            "bin_end": 24.560000000000002,
            "count": 0
           },
           {
            "bin_start": 24.560000000000002,
            "bin_end": 26.080000000000002,
            "count": 0
           },
           {
            "bin_start": 26.080000000000002,
            "bin_end": 27.6,
            "count": 0
           },
           {
            "bin_start": 27.6,
            "bin_end": 29.12,
            "count": 1
           },
           {
            "bin_start": 29.12,
            "bin_end": 30.64,
            "count": 2
           },
           {
            "bin_start": 30.64,
            "bin_end": 32.160000000000004,
            "count": 2
           },
           {
            "bin_start": 32.160000000000004,
            "bin_end": 33.68,
            "count": 1
           },
           {
            "bin_start": 33.68,
            "bin_end": 35.2,
            "count": 1
           }
          ]
         }
        },
        {
         "name": "note_std",
         "dtype": "float64",
         "stats": {
          "unique_count": 8,
          "nan_count": 0,
          "min": "6.679986693266852",
          "max": "16.308046509388575",
          "histogram": [
           {
            "bin_start": 6.679986693266852,
            "bin_end": 7.642792674879025,
            "count": 2
           },
           {
            "bin_start": 7.642792674879025,
            "bin_end": 8.605598656491196,
            "count": 0
           },
           {
            "bin_start": 8.605598656491196,
            "bin_end": 9.56840463810337,
            "count": 0
           },
           {
            "bin_start": 9.56840463810337,
            "bin_end": 10.53121061971554,
            "count": 0
           },
           {
            "bin_start": 10.53121061971554,
            "bin_end": 11.494016601327715,
            "count": 1
           },
           {
            "bin_start": 11.494016601327715,
            "bin_end": 12.456822582939886,
            "count": 1
           },
           {
            "bin_start": 12.456822582939886,
            "bin_end": 13.41962856455206,
            "count": 1
           },
           {
            "bin_start": 13.41962856455206,
            "bin_end": 14.38243454616423,
            "count": 2
           },
           {
            "bin_start": 14.38243454616423,
            "bin_end": 15.345240527776404,
            "count": 0
           },
           {
            "bin_start": 15.345240527776404,
            "bin_end": 16.308046509388575,
            "count": 1
           }
          ]
         }
        },
        {
         "name": "bimonthly",
         "dtype": "float64",
         "stats": {
          "unique_count": 4,
          "nan_count": 4,
          "min": "19.0",
          "max": "37.0",
          "histogram": [
           {
            "bin_start": 19,
            "bin_end": 20.8,
            "count": 1
           },
           {
            "bin_start": 20.8,
            "bin_end": 22.6,
            "count": 0
           },
           {
            "bin_start": 22.6,
            "bin_end": 24.4,
            "count": 0
           },
           {
            "bin_start": 24.4,
            "bin_end": 26.2,
            "count": 0
           },
           {
            "bin_start": 26.2,
            "bin_end": 28,
            "count": 1
           },
           {
            "bin_start": 28,
            "bin_end": 29.8,
            "count": 1
           },
           {
            "bin_start": 29.8,
            "bin_end": 31.6,
            "count": 0
           },
           {
            "bin_start": 31.6,
            "bin_end": 33.4,
            "count": 0
           },
           {
            "bin_start": 33.4,
            "bin_end": 35.2,
            "count": 0
           },
           {
            "bin_start": 35.2,
            "bin_end": 37,
            "count": 1
           }
          ]
         }
        },
        {
         "name": "dignostic",
         "dtype": "float64",
         "stats": {
          "unique_count": 6,
          "nan_count": 0,
          "min": "12.0",
          "max": "45.0",
          "histogram": [
           {
            "bin_start": 12,
            "bin_end": 15.3,
            "count": 1
           },
           {
            "bin_start": 15.3,
            "bin_end": 18.6,
            "count": 0
           },
           {
            "bin_start": 18.6,
            "bin_end": 21.9,
            "count": 0
           },
           {
            "bin_start": 21.9,
            "bin_end": 25.2,
            "count": 2
           },
           {
            "bin_start": 25.2,
            "bin_end": 28.5,
            "count": 0
           },
           {
            "bin_start": 28.5,
            "bin_end": 31.799999999999997,
            "count": 0
           },
           {
            "bin_start": 31.799999999999997,
            "bin_end": 35.099999999999994,
            "count": 0
           },
           {
            "bin_start": 35.099999999999994,
            "bin_end": 38.4,
            "count": 1
           },
           {
            "bin_start": 38.4,
            "bin_end": 41.7,
            "count": 0
           },
           {
            "bin_start": 41.7,
            "bin_end": 45,
            "count": 4
           }
          ]
         }
        },
        {
         "name": "ponderate_avg",
         "dtype": "float64",
         "stats": {
          "unique_count": 8,
          "nan_count": 0,
          "min": "24.65",
          "max": "34.85096153846153",
          "histogram": [
           {
            "bin_start": 24.65,
            "bin_end": 25.670096153846153,
            "count": 1
           },
           {
            "bin_start": 25.670096153846153,
            "bin_end": 26.690192307692307,
            "count": 0
           },
           {
            "bin_start": 26.690192307692307,
            "bin_end": 27.71028846153846,
            "count": 0
           },
           {
            "bin_start": 27.71028846153846,
            "bin_end": 28.73038461538461,
            "count": 2
           },
           {
            "bin_start": 28.73038461538461,
            "bin_end": 29.750480769230766,
            "count": 0
           },
           {
            "bin_start": 29.750480769230766,
            "bin_end": 30.77057692307692,
            "count": 0
           },
           {
            "bin_start": 30.77057692307692,
            "bin_end": 31.790673076923074,
            "count": 2
           },
           {
            "bin_start": 31.790673076923074,
            "bin_end": 32.810769230769225,
            "count": 0
           },
           {
            "bin_start": 32.810769230769225,
            "bin_end": 33.83086538461538,
            "count": 0
           },
           {
            "bin_start": 33.83086538461538,
            "bin_end": 34.85096153846153,
            "count": 3
           }
          ]
         }
        },
        {
         "name": "_deepnote_index_column",
         "dtype": "int64"
        }
       ],
       "rows": [
        {
         "indicator": 1,
         "bimester": 1,
         "normal_note_avg": 32.333333333333336,
         "note_std": 16.308046509388575,
         "bimonthly": 19,
         "dignostic": 37,
         "ponderate_avg": 30.833333333333336,
         "_deepnote_index_column": 0
        },
        {
         "indicator": 2,
         "bimester": 1,
         "normal_note_avg": 29,
         "note_std": 13.957077057894322,
         "bimonthly": 37,
         "dignostic": 45,
         "ponderate_avg": 34.6,
         "_deepnote_index_column": 2
        },
        {
         "indicator": 3,
         "bimester": 1,
         "normal_note_avg": 35.2,
         "note_std": 6.679986693266852,
         "bimonthly": 27,
         "dignostic": 25,
         "ponderate_avg": 31.01,
         "_deepnote_index_column": 4
        },
        {
         "indicator": 4,
         "bimester": 1,
         "normal_note_avg": 31,
         "note_std": 11.40175425099138,
         "bimonthly": 29,
         "dignostic": 22,
         "ponderate_avg": 28.35,
         "_deepnote_index_column": 6
        },
        {
         "indicator": 1,
         "bimester": 2,
         "normal_note_avg": 30.4,
         "note_std": 12.685950233755978,
         "bimonthly": "nan",
         "dignostic": 12,
         "ponderate_avg": 24.65,
         "_deepnote_index_column": 1
        },
        {
         "indicator": 2,
         "bimester": 2,
         "normal_note_avg": 30,
         "note_std": 13.784048752090223,
         "bimonthly": "nan",
         "dignostic": 45,
         "ponderate_avg": 34.6875,
         "_deepnote_index_column": 3
        },
        {
         "indicator": 3,
         "bimester": 2,
         "normal_note_avg": 20,
         "note_std": 7.314369419163897,
         "bimonthly": "nan",
         "dignostic": 45,
         "ponderate_avg": 27.8125,
         "_deepnote_index_column": 5
        },
        {
         "indicator": 4,
         "bimester": 2,
         "normal_note_avg": 30.692307692307693,
         "note_std": 12.263663233203848,
         "bimonthly": "nan",
         "dignostic": 44,
         "ponderate_avg": 34.85096153846153,
         "_deepnote_index_column": 7
        }
       ]
      },
      "text/plain": "   indicator  bimester  normal_note_avg   note_std  bimonthly  dignostic  \\\n0          1         1        32.333333  16.308047       19.0       37.0   \n2          2         1        29.000000  13.957077       37.0       45.0   \n4          3         1        35.200000   6.679987       27.0       25.0   \n6          4         1        31.000000  11.401754       29.0       22.0   \n1          1         2        30.400000  12.685950        NaN       12.0   \n3          2         2        30.000000  13.784049        NaN       45.0   \n5          3         2        20.000000   7.314369        NaN       45.0   \n7          4         2        30.692308  12.263663        NaN       44.0   \n\n   ponderate_avg  \n0      30.833333  \n2      34.600000  \n4      31.010000  \n6      28.350000  \n1      24.650000  \n3      34.687500  \n5      27.812500  \n7      34.850962  ",
      "text/html": "<div>\n<style scoped>\n    .dataframe tbody tr th:only-of-type {\n        vertical-align: middle;\n    }\n\n    .dataframe tbody tr th {\n        vertical-align: top;\n    }\n\n    .dataframe thead th {\n        text-align: right;\n    }\n</style>\n<table border=\"1\" class=\"dataframe\">\n  <thead>\n    <tr style=\"text-align: right;\">\n      <th></th>\n      <th>indicator</th>\n      <th>bimester</th>\n      <th>normal_note_avg</th>\n      <th>note_std</th>\n      <th>bimonthly</th>\n      <th>dignostic</th>\n      <th>ponderate_avg</th>\n    </tr>\n  </thead>\n  <tbody>\n    <tr>\n      <th>0</th>\n      <td>1</td>\n      <td>1</td>\n      <td>32.333333</td>\n      <td>16.308047</td>\n      <td>19.0</td>\n      <td>37.0</td>\n      <td>30.833333</td>\n    </tr>\n    <tr>\n      <th>2</th>\n      <td>2</td>\n      <td>1</td>\n      <td>29.000000</td>\n      <td>13.957077</td>\n      <td>37.0</td>\n      <td>45.0</td>\n      <td>34.600000</td>\n    </tr>\n    <tr>\n      <th>4</th>\n      <td>3</td>\n      <td>1</td>\n      <td>35.200000</td>\n      <td>6.679987</td>\n      <td>27.0</td>\n      <td>25.0</td>\n      <td>31.010000</td>\n    </tr>\n    <tr>\n      <th>6</th>\n      <td>4</td>\n      <td>1</td>\n      <td>31.000000</td>\n      <td>11.401754</td>\n      <td>29.0</td>\n      <td>22.0</td>\n      <td>28.350000</td>\n    </tr>\n    <tr>\n      <th>1</th>\n      <td>1</td>\n      <td>2</td>\n      <td>30.400000</td>\n      <td>12.685950</td>\n      <td>NaN</td>\n      <td>12.0</td>\n      <td>24.650000</td>\n    </tr>\n    <tr>\n      <th>3</th>\n      <td>2</td>\n      <td>2</td>\n      <td>30.000000</td>\n      <td>13.784049</td>\n      <td>NaN</td>\n      <td>45.0</td>\n      <td>34.687500</td>\n    </tr>\n    <tr>\n      <th>5</th>\n      <td>3</td>\n      <td>2</td>\n      <td>20.000000</td>\n      <td>7.314369</td>\n      <td>NaN</td>\n      <td>45.0</td>\n      <td>27.812500</td>\n    </tr>\n    <tr>\n      <th>7</th>\n      <td>4</td>\n      <td>2</td>\n      <td>30.692308</td>\n      <td>12.263663</td>\n      <td>NaN</td>\n      <td>44.0</td>\n      <td>34.850962</td>\n    </tr>\n  </tbody>\n</table>\n</div>"
     },
     "metadata": {}
    }
   ],
   "execution_count": null
  },
  {
   "cell_type": "markdown",
   "source": "## notes distribution ",
   "metadata": {
    "tags": [],
    "cell_id": "00007-aa9e4891-6cc9-488e-a604-2b44a5813055",
    "deepnote_cell_type": "markdown"
   }
  },
  {
   "cell_type": "code",
   "metadata": {
    "tags": [],
    "cell_id": "00009-b29bbbc9-2b03-46cb-b173-ea4ca4447b1f",
    "deepnote_to_be_reexecuted": false,
    "source_hash": "79ff02b",
    "execution_start": 1642120543892,
    "execution_millis": 1188,
    "deepnote_output_heights": [
     428
    ],
    "deepnote_cell_type": "code"
   },
   "source": "def plot_distribution_indicator(classe,bimester, notes = notes):\n    filter_notes = notes.loc[(notes['class'] == classe) & (notes['bimester'] == bimester)]\n\n    indicators = filter_notes['indicator'].unique()\n    indicators_gen = (i for i in [[0,0],[0,1],[1,0],[1,1]])\n    \n    fig, ax = plt.subplots(2,2,figsize=(12, 6),sharey=True)\n    fig.tight_layout(h_pad=2) #avoid overlaping\n    plt.subplots_adjust(top=0.85) #ovoid overlaping titile\n\n    for indicator in indicators:\n        ind_x_distribution = filter_notes.loc[(filter_notes['indicator'] == indicator)]['note'].values\n        ubication = next(indicators_gen)\n\n        #bars\n        values, dist = np.unique(ind_x_distribution , return_counts=True)\n        ax[ubication[0],ubication[1]].bar(values, dist)\n\n        #distrivution\n        dist = norm(ind_x_distribution.mean(), ind_x_distribution.std())\n        x = np.arange(10, 50, 0.1)\n        y = [dist.pdf(value)*len(ind_x_distribution) for value in x]\n        ax[ubication[0],ubication[1]].plot(x,y) \n\n        ax[ubication[0],ubication[1]].set_title(f'{indicator}° indicator')\n\n    fig.suptitle(f'bimester: {bimester}',fontsize=15)\n\nplot_distribution_indicator('lengua_castellana',1)",
   "outputs": [
    {
     "data": {
      "text/plain": "<Figure size 864x432 with 4 Axes>",
      "image/png": "[encoded data removed]"
     },
     "metadata": {
      "needs_background": "light",
      "image/png": {
       "width": 848,
       "height": 426
      }
     },
     "output_type": "display_data"
    }
   ],
   "execution_count": null
  },
  {
   "cell_type": "markdown",
   "source": "## what i need to pass",
   "metadata": {
    "tags": [],
    "cell_id": "00010-24055fab-a898-4582-862e-5d929ec2818c",
    "deepnote_cell_type": "markdown"
   }
  },
  {
   "cell_type": "code",
   "metadata": {
    "tags": [],
    "cell_id": "00011-9b750fc7-96a7-4f83-a07c-6155cef54780",
    "deepnote_to_be_reexecuted": false,
    "source_hash": "2e8a2476",
    "execution_start": 1642120545145,
    "execution_millis": 1,
    "deepnote_cell_type": "code"
   },
   "source": "def how_much_to_pass(normal_avg,dig = 0,bim = 0):\n    bim_dig_values = {'dig':0, 'bim':0}\n    dig_notes = not ((dig == 0) or np.isnan(dig))\n    bim_notes = not ((bim == 0) or np.isnan(bim))\n    assert dig_notes and bim_notes == False, 'if dig and bim notes are already there you can do anything'\n\n    try:\n        if not dig_notes and not bim_notes:\n            bim_dig_values['dig'] = bim_dig_values['bim'] = np.ceil((700-11*avg)/9)\n\n        elif dig_notes and not bim_notes:\n            bim_dig_values['bim'] = int(np.ceil((700-11*normal_avg-dig*5)/4))\n        \n        elif not dig_notes and bim_notes:\n            bim_dig_values['dig'] = int(np.ceil((700-11*normal_avg-bim*4)/5))\n\n        assert bim_dig_values['dig'] < 50 and bim_dig_values['bim'] < 50, 'the neded note exced the maximun posible note'\n\n    except AssertionError as error:\n        return 'is imposible to pass'\n\n    bim_dig_values = {key:item for key, item in bim_dig_values.items() if item != 0}\n    return bim_dig_values\n\ndef zptile(z_score):\n    return .5 * (math.erf(z_score / 2 ** .5) + 1) *100\n\ndef prov_of_needed_note(notes_dictionay,indicator,notes=notes):\n        min_prov = []\n        max_prov = []\n        provs = []\n\n        notes_ind_data = notes.loc[(notes['indicator'] == indicator)] \n        error_magen = (1.96*notes_ind_data['note'].std())/len(notes_ind_data)**0.5 #revise it\n\n        for key, item in notes_dictionay.items():\n\n            z_score =  (item - notes_ind_data['note'].mean())/notes_ind_data['note'].std()\n            prov = 100-zptile(z_score) #prov of achiving the note or a highter\n            error = prov/100*error_magen\n\n            provs.append(prov)\n            min_prov.append(prov-error)\n            max_prov.append(prov+error)\n\n\n        provs = np.mean(provs)\n        min_prov = round(np.mean(min_prov),2) #le saco el promedio o los multiplico\n        max_prov = round(np.mean(max_prov),2)\n        return f'{max_prov}%-{min_prov}%', [provs,error_magen]\n\ndef situation_analizer(indicators=indicators):\n    situation = pd.DataFrame(columns=['def_note','pass','need_to_pass','need_note_provavility'] )\n\n    for index, row in indicators.iterrows():\n        situation_row = {'indicator':row['indicator'], 'bimester': row['bimester'], 'def_note':row['ponderate_avg'],  \n        'pass':0 ,'need_to_pass': 'already_end'}\n\n        dig_notes = not((row['dignostic'] == 0) or (np.isnan(row['dignostic'])))\n        bim_notes = not((row['bimonthly'] == 0) or (np.isnan(row['bimonthly']))) \n\n\n        if dig_notes and bim_notes:\n            situation_row['pass'] = 'yes' if situation_row['def_note'] >= 35 else 'no'\n\n        else:\n            situation_row['pass'] = 'currenly_yes' if situation_row['def_note'] >= 35 else 'currenly_no'\n            situation_row['need_to_pass'] = how_much_to_pass(row['normal_note_avg'],row['dignostic'],row['bimonthly'])\n\n            if type(situation_row['need_to_pass']) == dict:\n                situation_row['need_note_provavility'], situation_row['provability_and_error'] = prov_of_needed_note(\n                    situation_row['need_to_pass'],row['indicator'])\n\n        situation = situation.append(situation_row, ignore_index=True)\n\n    situation=situation.astype({'bimester':int,'indicator':int})\n    situation = situation.set_index(['bimester','indicator'])\n\n    #join situation to indicator\n    indicators = indicators.set_index(['bimester','indicator'])\n    indicators = indicators.join(situation)\n    indicators = indicators.reset_index(['bimester','indicator'])\n\n    return situation, indicators",
   "outputs": [],
   "execution_count": null
  },
  {
   "cell_type": "code",
   "metadata": {
    "cell_id": "5ca512ed-a22f-4e77-b93c-6750cdcedb98",
    "tags": [],
    "deepnote_to_be_reexecuted": false,
    "source_hash": "dda4de86",
    "execution_start": 1642120545146,
    "execution_millis": 79,
    "deepnote_output_heights": [
     293
    ],
    "deepnote_cell_type": "code"
   },
   "source": "situation, full_report= situation_analizer()\nsituation.loc[(situation['need_note_provavility'] != 'already_end')]",
   "outputs": [
    {
     "output_type": "execute_result",
     "execution_count": 8,
     "data": {
      "application/vnd.deepnote.dataframe.v3+json": {
       "column_count": 5,
       "row_count": 8,
       "columns": [
        {
         "name": "def_note",
         "dtype": "float64",
         "stats": {
          "unique_count": 8,
          "nan_count": 0,
          "min": "24.65",
          "max": "34.85096153846153",
          "histogram": [
           {
            "bin_start": 24.65,
            "bin_end": 25.670096153846153,
            "count": 1
           },
           {
            "bin_start": 25.670096153846153,
            "bin_end": 26.690192307692307,
            "count": 0
           },
           {
            "bin_start": 26.690192307692307,
            "bin_end": 27.71028846153846,
            "count": 0
           },
           {
            "bin_start": 27.71028846153846,
            "bin_end": 28.73038461538461,
            "count": 2
           },
           {
            "bin_start": 28.73038461538461,
            "bin_end": 29.750480769230766,
            "count": 0
           },
           {
            "bin_start": 29.750480769230766,
            "bin_end": 30.77057692307692,
            "count": 0
           },
           {
            "bin_start": 30.77057692307692,
            "bin_end": 31.790673076923074,
            "count": 2
           },
           {
            "bin_start": 31.790673076923074,
            "bin_end": 32.810769230769225,
            "count": 0
           },
           {
            "bin_start": 32.810769230769225,
            "bin_end": 33.83086538461538,
            "count": 0
           },
           {
            "bin_start": 33.83086538461538,
            "bin_end": 34.85096153846153,
            "count": 3
           }
          ]
         }
        },
        {
         "name": "pass",
         "dtype": "object",
         "stats": {
          "unique_count": 2,
          "nan_count": 0,
          "categories": [
           {
            "name": "no",
            "count": 4
           },
           {
            "name": "currenly_no",
            "count": 4
           }
          ]
         }
        },
        {
         "name": "need_to_pass",
         "dtype": "object",
         "stats": {
          "unique_count": 8,
          "nan_count": 0,
          "categories": [
           {
            "name": "already_end",
            "count": 4
           },
           {
            "name": "is imposible to pass",
            "count": 2
           },
           {
            "name": "2 others",
            "count": 2
           }
          ]
         }
        },
        {
         "name": "need_note_provavility",
         "dtype": "object",
         "stats": {
          "unique_count": 2,
          "nan_count": 6,
          "categories": [
           {
            "name": "38.46%-33.44%",
            "count": 1
           },
           {
            "name": "34.19%-31.32%",
            "count": 1
           },
           {
            "name": "Missing",
            "count": 6
           }
          ]
         }
        },
        {
         "name": "provability_and_error",
         "dtype": "object",
         "stats": {
          "unique_count": 8,
          "nan_count": 6,
          "categories": [
           {
            "name": "[35.95152795544685, 6.974061607536882]",
            "count": 1
           },
           {
            "name": "[32.75593150520844, 4.369083161103603]",
            "count": 1
           },
           {
            "name": "Missing",
            "count": 6
           }
          ]
         }
        },
        {
         "name": "_deepnote_index_column",
         "dtype": "object"
        }
       ],
       "rows": [
        {
         "def_note": 30.833333333333336,
         "pass": "no",
         "need_to_pass": "already_end",
         "need_note_provavility": "nan",
         "provability_and_error": "nan",
         "_deepnote_index_column": "(1, 1)"
        },
        {
         "def_note": 34.6,
         "pass": "no",
         "need_to_pass": "already_end",
         "need_note_provavility": "nan",
         "provability_and_error": "nan",
         "_deepnote_index_column": "(1, 2)"
        },
        {
         "def_note": 31.01,
         "pass": "no",
         "need_to_pass": "already_end",
         "need_note_provavility": "nan",
         "provability_and_error": "nan",
         "_deepnote_index_column": "(1, 3)"
        },
        {
         "def_note": 28.35,
         "pass": "no",
         "need_to_pass": "already_end",
         "need_note_provavility": "nan",
         "provability_and_error": "nan",
         "_deepnote_index_column": "(1, 4)"
        },
        {
         "def_note": 24.65,
         "pass": "currenly_no",
         "need_to_pass": "is imposible to pass",
         "need_note_provavility": "nan",
         "provability_and_error": "nan",
         "_deepnote_index_column": "(2, 1)"
        },
        {
         "def_note": 34.6875,
         "pass": "currenly_no",
         "need_to_pass": "{'bim': 37}",
         "need_note_provavility": "38.46%-33.44%",
         "provability_and_error": "[35.95152795544685, 6.974061607536882]",
         "_deepnote_index_column": "(2, 2)"
        },
        {
         "def_note": 27.8125,
         "pass": "currenly_no",
         "need_to_pass": "is imposible to pass",
         "need_note_provavility": "nan",
         "provability_and_error": "nan",
         "_deepnote_index_column": "(2, 3)"
        },
        {
         "def_note": 34.85096153846153,
         "pass": "currenly_no",
         "need_to_pass": "{'bim': 36}",
         "need_note_provavility": "34.19%-31.32%",
         "provability_and_error": "[32.75593150520844, 4.369083161103603]",
         "_deepnote_index_column": "(2, 4)"
        }
       ]
      },
      "text/plain": "                     def_note         pass          need_to_pass  \\\nbimester indicator                                                 \n1        1          30.833333           no           already_end   \n         2          34.600000           no           already_end   \n         3          31.010000           no           already_end   \n         4          28.350000           no           already_end   \n2        1          24.650000  currenly_no  is imposible to pass   \n         2          34.687500  currenly_no           {'bim': 37}   \n         3          27.812500  currenly_no  is imposible to pass   \n         4          34.850962  currenly_no           {'bim': 36}   \n\n                   need_note_provavility  \\\nbimester indicator                         \n1        1                           NaN   \n         2                           NaN   \n         3                           NaN   \n         4                           NaN   \n2        1                           NaN   \n         2                 38.46%-33.44%   \n         3                           NaN   \n         4                 34.19%-31.32%   \n\n                                     provability_and_error  \nbimester indicator                                          \n1        1                                             NaN  \n         2                                             NaN  \n         3                                             NaN  \n         4                                             NaN  \n2        1                                             NaN  \n         2          [35.95152795544685, 6.974061607536882]  \n         3                                             NaN  \n         4          [32.75593150520844, 4.369083161103603]  ",
      "text/html": "<div>\n<style scoped>\n    .dataframe tbody tr th:only-of-type {\n        vertical-align: middle;\n    }\n\n    .dataframe tbody tr th {\n        vertical-align: top;\n    }\n\n    .dataframe thead th {\n        text-align: right;\n    }\n</style>\n<table border=\"1\" class=\"dataframe\">\n  <thead>\n    <tr style=\"text-align: right;\">\n      <th></th>\n      <th></th>\n      <th>def_note</th>\n      <th>pass</th>\n      <th>need_to_pass</th>\n      <th>need_note_provavility</th>\n      <th>provability_and_error</th>\n    </tr>\n    <tr>\n      <th>bimester</th>\n      <th>indicator</th>\n      <th></th>\n      <th></th>\n      <th></th>\n      <th></th>\n      <th></th>\n    </tr>\n  </thead>\n  <tbody>\n    <tr>\n      <th rowspan=\"4\" valign=\"top\">1</th>\n      <th>1</th>\n      <td>30.833333</td>\n      <td>no</td>\n      <td>already_end</td>\n      <td>NaN</td>\n      <td>NaN</td>\n    </tr>\n    <tr>\n      <th>2</th>\n      <td>34.600000</td>\n      <td>no</td>\n      <td>already_end</td>\n      <td>NaN</td>\n      <td>NaN</td>\n    </tr>\n    <tr>\n      <th>3</th>\n      <td>31.010000</td>\n      <td>no</td>\n      <td>already_end</td>\n      <td>NaN</td>\n      <td>NaN</td>\n    </tr>\n    <tr>\n      <th>4</th>\n      <td>28.350000</td>\n      <td>no</td>\n      <td>already_end</td>\n      <td>NaN</td>\n      <td>NaN</td>\n    </tr>\n    <tr>\n      <th rowspan=\"4\" valign=\"top\">2</th>\n      <th>1</th>\n      <td>24.650000</td>\n      <td>currenly_no</td>\n      <td>is imposible to pass</td>\n      <td>NaN</td>\n      <td>NaN</td>\n    </tr>\n    <tr>\n      <th>2</th>\n      <td>34.687500</td>\n      <td>currenly_no</td>\n      <td>{'bim': 37}</td>\n      <td>38.46%-33.44%</td>\n      <td>[35.95152795544685, 6.974061607536882]</td>\n    </tr>\n    <tr>\n      <th>3</th>\n      <td>27.812500</td>\n      <td>currenly_no</td>\n      <td>is imposible to pass</td>\n      <td>NaN</td>\n      <td>NaN</td>\n    </tr>\n    <tr>\n      <th>4</th>\n      <td>34.850962</td>\n      <td>currenly_no</td>\n      <td>{'bim': 36}</td>\n      <td>34.19%-31.32%</td>\n      <td>[32.75593150520844, 4.369083161103603]</td>\n    </tr>\n  </tbody>\n</table>\n</div>"
     },
     "metadata": {}
    }
   ],
   "execution_count": null
  },
  {
   "cell_type": "code",
   "metadata": {
    "cell_id": "07483f49-8687-4425-bdca-5eed2b3bddf4",
    "tags": [],
    "deepnote_to_be_reexecuted": false,
    "source_hash": "d5c2b20f",
    "execution_start": 1642120545269,
    "execution_millis": 14,
    "deepnote_output_heights": [
     293
    ],
    "deepnote_cell_type": "code"
   },
   "source": "full_report.set_index(['bimester','indicator'])[['bimonthly','dignostic','ponderate_avg','pass']]",
   "outputs": [
    {
     "output_type": "execute_result",
     "execution_count": 9,
     "data": {
      "application/vnd.deepnote.dataframe.v3+json": {
       "column_count": 4,
       "row_count": 8,
       "columns": [
        {
         "name": "bimonthly",
         "dtype": "float64",
         "stats": {
          "unique_count": 4,
          "nan_count": 4,
          "min": "19.0",
          "max": "37.0",
          "histogram": [
           {
            "bin_start": 19,
            "bin_end": 20.8,
            "count": 1
           },
           {
            "bin_start": 20.8,
            "bin_end": 22.6,
            "count": 0
           },
           {
            "bin_start": 22.6,
            "bin_end": 24.4,
            "count": 0
           },
           {
            "bin_start": 24.4,
            "bin_end": 26.2,
            "count": 0
           },
           {
            "bin_start": 26.2,
            "bin_end": 28,
            "count": 1
           },
           {
            "bin_start": 28,
            "bin_end": 29.8,
            "count": 1
           },
           {
            "bin_start": 29.8,
            "bin_end": 31.6,
            "count": 0
           },
           {
            "bin_start": 31.6,
            "bin_end": 33.4,
            "count": 0
           },
           {
            "bin_start": 33.4,
            "bin_end": 35.2,
            "count": 0
           },
           {
            "bin_start": 35.2,
            "bin_end": 37,
            "count": 1
           }
          ]
         }
        },
        {
         "name": "dignostic",
         "dtype": "float64",
         "stats": {
          "unique_count": 6,
          "nan_count": 0,
          "min": "12.0",
          "max": "45.0",
          "histogram": [
           {
            "bin_start": 12,
            "bin_end": 15.3,
            "count": 1
           },
           {
            "bin_start": 15.3,
            "bin_end": 18.6,
            "count": 0
           },
           {
            "bin_start": 18.6,
            "bin_end": 21.9,
            "count": 0
           },
           {
            "bin_start": 21.9,
            "bin_end": 25.2,
            "count": 2
           },
           {
            "bin_start": 25.2,
            "bin_end": 28.5,
            "count": 0
           },
           {
            "bin_start": 28.5,
            "bin_end": 31.799999999999997,
            "count": 0
           },
           {
            "bin_start": 31.799999999999997,
            "bin_end": 35.099999999999994,
            "count": 0
           },
           {
            "bin_start": 35.099999999999994,
            "bin_end": 38.4,
            "count": 1
           },
           {
            "bin_start": 38.4,
            "bin_end": 41.7,
            "count": 0
           },
           {
            "bin_start": 41.7,
            "bin_end": 45,
            "count": 4
           }
          ]
         }
        },
        {
         "name": "ponderate_avg",
         "dtype": "float64",
         "stats": {
          "unique_count": 8,
          "nan_count": 0,
          "min": "24.65",
          "max": "34.85096153846153",
          "histogram": [
           {
            "bin_start": 24.65,
            "bin_end": 25.670096153846153,
            "count": 1
           },
           {
            "bin_start": 25.670096153846153,
            "bin_end": 26.690192307692307,
            "count": 0
           },
           {
            "bin_start": 26.690192307692307,
            "bin_end": 27.71028846153846,
            "count": 0
           },
           {
            "bin_start": 27.71028846153846,
            "bin_end": 28.73038461538461,
            "count": 2
           },
           {
            "bin_start": 28.73038461538461,
            "bin_end": 29.750480769230766,
            "count": 0
           },
           {
            "bin_start": 29.750480769230766,
            "bin_end": 30.77057692307692,
            "count": 0
           },
           {
            "bin_start": 30.77057692307692,
            "bin_end": 31.790673076923074,
            "count": 2
           },
           {
            "bin_start": 31.790673076923074,
            "bin_end": 32.810769230769225,
            "count": 0
           },
           {
            "bin_start": 32.810769230769225,
            "bin_end": 33.83086538461538,
            "count": 0
           },
           {
            "bin_start": 33.83086538461538,
            "bin_end": 34.85096153846153,
            "count": 3
           }
          ]
         }
        },
        {
         "name": "pass",
         "dtype": "object",
         "stats": {
          "unique_count": 2,
          "nan_count": 0,
          "categories": [
           {
            "name": "no",
            "count": 4
           },
           {
            "name": "currenly_no",
            "count": 4
           }
          ]
         }
        },
        {
         "name": "_deepnote_index_column",
         "dtype": "object"
        }
       ],
       "rows": [
        {
         "bimonthly": 19,
         "dignostic": 37,
         "ponderate_avg": 30.833333333333336,
         "pass": "no",
         "_deepnote_index_column": "(1, 1)"
        },
        {
         "bimonthly": 37,
         "dignostic": 45,
         "ponderate_avg": 34.6,
         "pass": "no",
         "_deepnote_index_column": "(1, 2)"
        },
        {
         "bimonthly": 27,
         "dignostic": 25,
         "ponderate_avg": 31.01,
         "pass": "no",
         "_deepnote_index_column": "(1, 3)"
        },
        {
         "bimonthly": 29,
         "dignostic": 22,
         "ponderate_avg": 28.35,
         "pass": "no",
         "_deepnote_index_column": "(1, 4)"
        },
        {
         "bimonthly": "nan",
         "dignostic": 12,
         "ponderate_avg": 24.65,
         "pass": "currenly_no",
         "_deepnote_index_column": "(2, 1)"
        },
        {
         "bimonthly": "nan",
         "dignostic": 45,
         "ponderate_avg": 34.6875,
         "pass": "currenly_no",
         "_deepnote_index_column": "(2, 2)"
        },
        {
         "bimonthly": "nan",
         "dignostic": 45,
         "ponderate_avg": 27.8125,
         "pass": "currenly_no",
         "_deepnote_index_column": "(2, 3)"
        },
        {
         "bimonthly": "nan",
         "dignostic": 44,
         "ponderate_avg": 34.85096153846153,
         "pass": "currenly_no",
         "_deepnote_index_column": "(2, 4)"
        }
       ]
      },
      "text/plain": "                    bimonthly  dignostic  ponderate_avg         pass\nbimester indicator                                                  \n1        1               19.0       37.0      30.833333           no\n         2               37.0       45.0      34.600000           no\n         3               27.0       25.0      31.010000           no\n         4               29.0       22.0      28.350000           no\n2        1                NaN       12.0      24.650000  currenly_no\n         2                NaN       45.0      34.687500  currenly_no\n         3                NaN       45.0      27.812500  currenly_no\n         4                NaN       44.0      34.850962  currenly_no",
      "text/html": "<div>\n<style scoped>\n    .dataframe tbody tr th:only-of-type {\n        vertical-align: middle;\n    }\n\n    .dataframe tbody tr th {\n        vertical-align: top;\n    }\n\n    .dataframe thead th {\n        text-align: right;\n    }\n</style>\n<table border=\"1\" class=\"dataframe\">\n  <thead>\n    <tr style=\"text-align: right;\">\n      <th></th>\n      <th></th>\n      <th>bimonthly</th>\n      <th>dignostic</th>\n      <th>ponderate_avg</th>\n      <th>pass</th>\n    </tr>\n    <tr>\n      <th>bimester</th>\n      <th>indicator</th>\n      <th></th>\n      <th></th>\n      <th></th>\n      <th></th>\n    </tr>\n  </thead>\n  <tbody>\n    <tr>\n      <th rowspan=\"4\" valign=\"top\">1</th>\n      <th>1</th>\n      <td>19.0</td>\n      <td>37.0</td>\n      <td>30.833333</td>\n      <td>no</td>\n    </tr>\n    <tr>\n      <th>2</th>\n      <td>37.0</td>\n      <td>45.0</td>\n      <td>34.600000</td>\n      <td>no</td>\n    </tr>\n    <tr>\n      <th>3</th>\n      <td>27.0</td>\n      <td>25.0</td>\n      <td>31.010000</td>\n      <td>no</td>\n    </tr>\n    <tr>\n      <th>4</th>\n      <td>29.0</td>\n      <td>22.0</td>\n      <td>28.350000</td>\n      <td>no</td>\n    </tr>\n    <tr>\n      <th rowspan=\"4\" valign=\"top\">2</th>\n      <th>1</th>\n      <td>NaN</td>\n      <td>12.0</td>\n      <td>24.650000</td>\n      <td>currenly_no</td>\n    </tr>\n    <tr>\n      <th>2</th>\n      <td>NaN</td>\n      <td>45.0</td>\n      <td>34.687500</td>\n      <td>currenly_no</td>\n    </tr>\n    <tr>\n      <th>3</th>\n      <td>NaN</td>\n      <td>45.0</td>\n      <td>27.812500</td>\n      <td>currenly_no</td>\n    </tr>\n    <tr>\n      <th>4</th>\n      <td>NaN</td>\n      <td>44.0</td>\n      <td>34.850962</td>\n      <td>currenly_no</td>\n    </tr>\n  </tbody>\n</table>\n</div>"
     },
     "metadata": {}
    }
   ],
   "execution_count": null
  },
  {
   "cell_type": "markdown",
   "source": "<a style='text-decoration:none;line-height:16px;display:flex;color:#5B5B62;padding:10px;justify-content:end;' href='https://deepnote.com?utm_source=created-in-deepnote-cell&projectId=50dbbd25-8c13-4c7b-a40f-860fb8cbc2c7' target=\"_blank\">\n<img alt='Created in deepnote.com' style='display:inline;max-height:16px;margin:0px;margin-right:7.5px;' src='data:image/svg+xml;base64,PD94bWwgdmVyc2lvbj0iMS4wIiBlbmNvZGluZz0iVVRGLTgiPz4KPHN2ZyB3aWR0aD0iODBweCIgaGVpZ2h0PSI4MHB4IiB2aWV3Qm94PSIwIDAgODAgODAiIHZlcnNpb249IjEuMSIgeG1sbnM9Imh0dHA6Ly93d3cudzMub3JnLzIwMDAvc3ZnIiB4bWxuczp4bGluaz0iaHR0cDovL3d3dy53My5vcmcvMTk5OS94bGluayI+CiAgICA8IS0tIEdlbmVyYXRvcjogU2tldGNoIDU0LjEgKDc2NDkwKSAtIGh0dHBzOi8vc2tldGNoYXBwLmNvbSAtLT4KICAgIDx0aXRsZT5Hcm91cCAzPC90aXRsZT4KICAgIDxkZXNjPkNyZWF0ZWQgd2l0aCBTa2V0Y2guPC9kZXNjPgogICAgPGcgaWQ9IkxhbmRpbmciIHN0cm9rZT0ibm9uZSIgc3Ryb2tlLXdpZHRoPSIxIiBmaWxsPSJub25lIiBmaWxsLXJ1bGU9ImV2ZW5vZGQiPgogICAgICAgIDxnIGlkPSJBcnRib2FyZCIgdHJhbnNmb3JtPSJ0cmFuc2xhdGUoLTEyMzUuMDAwMDAwLCAtNzkuMDAwMDAwKSI+CiAgICAgICAgICAgIDxnIGlkPSJHcm91cC0zIiB0cmFuc2Zvcm09InRyYW5zbGF0ZSgxMjM1LjAwMDAwMCwgNzkuMDAwMDAwKSI+CiAgICAgICAgICAgICAgICA8cG9seWdvbiBpZD0iUGF0aC0yMCIgZmlsbD0iIzAyNjVCNCIgcG9pbnRzPSIyLjM3NjIzNzYyIDgwIDM4LjA0NzY2NjcgODAgNTcuODIxNzgyMiA3My44MDU3NTkyIDU3LjgyMTc4MjIgMzIuNzU5MjczOSAzOS4xNDAyMjc4IDMxLjY4MzE2ODMiPjwvcG9seWdvbj4KICAgICAgICAgICAgICAgIDxwYXRoIGQ9Ik0zNS4wMDc3MTgsODAgQzQyLjkwNjIwMDcsNzYuNDU0OTM1OCA0Ny41NjQ5MTY3LDcxLjU0MjI2NzEgNDguOTgzODY2LDY1LjI2MTk5MzkgQzUxLjExMjI4OTksNTUuODQxNTg0MiA0MS42NzcxNzk1LDQ5LjIxMjIyODQgMjUuNjIzOTg0Niw0OS4yMTIyMjg0IEMyNS40ODQ5Mjg5LDQ5LjEyNjg0NDggMjkuODI2MTI5Niw0My4yODM4MjQ4IDM4LjY0NzU4NjksMzEuNjgzMTY4MyBMNzIuODcxMjg3MSwzMi41NTQ0MjUgTDY1LjI4MDk3Myw2Ny42NzYzNDIxIEw1MS4xMTIyODk5LDc3LjM3NjE0NCBMMzUuMDA3NzE4LDgwIFoiIGlkPSJQYXRoLTIyIiBmaWxsPSIjMDAyODY4Ij48L3BhdGg+CiAgICAgICAgICAgICAgICA8cGF0aCBkPSJNMCwzNy43MzA0NDA1IEwyNy4xMTQ1MzcsMC4yNTcxMTE0MzYgQzYyLjM3MTUxMjMsLTEuOTkwNzE3MDEgODAsMTAuNTAwMzkyNyA4MCwzNy43MzA0NDA1IEM4MCw2NC45NjA0ODgyIDY0Ljc3NjUwMzgsNzkuMDUwMzQxNCAzNC4zMjk1MTEzLDgwIEM0Ny4wNTUzNDg5LDc3LjU2NzA4MDggNTMuNDE4MjY3Nyw3MC4zMTM2MTAzIDUzLjQxODI2NzcsNTguMjM5NTg4NSBDNTMuNDE4MjY3Nyw0MC4xMjg1NTU3IDM2LjMwMzk1NDQsMzcuNzMwNDQwNSAyNS4yMjc0MTcsMzcuNzMwNDQwNSBDMTcuODQzMDU4NiwzNy43MzA0NDA1IDkuNDMzOTE5NjYsMzcuNzMwNDQwNSAwLDM3LjczMDQ0MDUgWiIgaWQ9IlBhdGgtMTkiIGZpbGw9IiMzNzkzRUYiPjwvcGF0aD4KICAgICAgICAgICAgPC9nPgogICAgICAgIDwvZz4KICAgIDwvZz4KPC9zdmc+' > </img>\nCreated in <span style='font-weight:600;margin-left:4px;'>Deepnote</span></a>",
   "metadata": {
    "tags": [],
    "created_in_deepnote_cell": true,
    "deepnote_cell_type": "markdown"
   }
  }
 ],
 "nbformat": 4,
 "nbformat_minor": 2,
 "metadata": {
  "orig_nbformat": 2,
  "deepnote": {
   "is_reactive": false
  },
  "deepnote_notebook_id": "38c046ea-9b83-4d31-a23d-b46409bcf8bf",
  "deepnote_execution_queue": []
 }
}